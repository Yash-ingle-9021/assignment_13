{
 "cells": [
  {
   "cell_type": "code",
   "execution_count": 1,
   "metadata": {},
   "outputs": [
    {
     "name": "stdout",
     "output_type": "stream",
     "text": [
      "* ASSIGNMENT_13 *\n"
     ]
    }
   ],
   "source": [
    "print(\"* ASSIGNMENT_13 *\")"
   ]
  },
  {
   "cell_type": "code",
   "execution_count": 2,
   "metadata": {},
   "outputs": [
    {
     "name": "stdout",
     "output_type": "stream",
     "text": [
      "Q_1_ANS :- Multithreading :- multithreading is a way of achieving multitasking. In multithreading, the concept of threads is used. Let us first understand the concept of thread in computer architecture.In computing, a process is an instance of a computer program that is being executed. Any process has 3 basic components:\n",
      "An executable program.\n",
      "The associated data needed by the program (variables, work space, buffers, etc.)\n",
      "The execution context of the program (State of process)\n",
      "A thread is an entity within a process that can be scheduled for execution. Also, it is the smallest unit of processing that can be performed in an OS (Operating System). In simple words, a thread is a sequence of such instructions within a program that can be executed independently of other code. For simplicity, you can assume that a thread is simply a subset of a process! A thread contains all this information in a Thread Control Block (TCB).\n",
      "threading module used to handle threads in python.\n"
     ]
    }
   ],
   "source": [
    "print('Q_1_ANS :- Multithreading :- multithreading is a way of achieving multitasking. In multithreading, the concept of threads is used. Let us first understand the concept of thread in computer architecture.In computing, a process is an instance of a computer program that is being executed. Any process has 3 basic components:\\nAn executable program.\\nThe associated data needed by the program (variables, work space, buffers, etc.)\\nThe execution context of the program (State of process)\\nA thread is an entity within a process that can be scheduled for execution. Also, it is the smallest unit of processing that can be performed in an OS (Operating System). In simple words, a thread is a sequence of such instructions within a program that can be executed independently of other code. For simplicity, you can assume that a thread is simply a subset of a process! A thread contains all this information in a Thread Control Block (TCB).\\nthreading module used to handle threads in python.')"
   ]
  },
  {
   "cell_type": "code",
   "execution_count": 5,
   "metadata": {},
   "outputs": [
    {
     "name": "stdout",
     "output_type": "stream",
     "text": [
      "Q_2_ANS :- The newer threading module included with Python 2.4 provides much more powerful, high-level support for threads than the thread module discussed in the previous section. threading.\n",
      "Use of the function :-\n",
      "activeCount() − Returns the number of thread objects that are active.\n",
      "currentThread() − Returns the number of thread objects in the caller's thread control.\n",
      "enumerate() − Returns a list of all thread objects that are currently active.\n"
     ]
    }
   ],
   "source": [
    "print(\"Q_2_ANS :- The newer threading module included with Python 2.4 provides much more powerful, high-level support for threads than the thread module discussed in the previous section. threading.\\nUse of the function :-\\nactiveCount() − Returns the number of thread objects that are active.\\ncurrentThread() − Returns the number of thread objects in the caller's thread control.\\nenumerate() − Returns a list of all thread objects that are currently active.\")"
   ]
  },
  {
   "cell_type": "code",
   "execution_count": 7,
   "metadata": {},
   "outputs": [
    {
     "name": "stdout",
     "output_type": "stream",
     "text": [
      "Q_3_ANS :- In addition to the methods, the threading module has the Thread class that implements threading. The methods provided by the Thread class are as follows-\n",
      "run()  − The run() method is the entry point for a thread.\n",
      "start()  − The start() method starts a thread by calling the run method.\n",
      "join([time])  − The join() waits for threads to terminate.\n",
      "isAlive()  − The isAlive() method checks whether a thread is still executing.\n"
     ]
    }
   ],
   "source": [
    "print('Q_3_ANS :- In addition to the methods, the threading module has the Thread class that implements threading. The methods provided by the Thread class are as follows-\\nrun()  − The run() method is the entry point for a thread.\\nstart()  − The start() method starts a thread by calling the run method.\\njoin([time])  − The join() waits for threads to terminate.\\nisAlive()  − The isAlive() method checks whether a thread is still executing.')"
   ]
  },
  {
   "cell_type": "code",
   "execution_count": 43,
   "metadata": {},
   "outputs": [
    {
     "name": "stdout",
     "output_type": "stream",
     "text": [
      "Q_4_ANS :- \n",
      "Square of 1 is :- 1 \n",
      "Square of 2 is :- 4 \n",
      "Square of 3 is :- 9 \n",
      "Square of 4 is :- 16 \n",
      "Square of 5 is :- 25 \n",
      "Square of 6 is :- 36 \n",
      "Square of 7 is :- 49 \n",
      "Square of 8 is :- 64 \n",
      "Square of 9 is :- 81 \n",
      "Square of 10 is :- 100 \n",
      "Cube of 1 is :- 1 \n",
      "Cube of 2 is :- 8 \n",
      "Cube of 3 is :- 27 \n",
      "Cube of 4 is :- 64 \n",
      "Cube of 5 is :- 125 \n",
      "Cube of 6 is :- 216 \n",
      "Cube of 7 is :- 343 \n",
      "Cube of 8 is :- 512 \n",
      "Cube of 9 is :- 729 \n",
      "Cube of 10 is :- 1000 \n",
      "Done!\n"
     ]
    }
   ],
   "source": [
    "print('Q_4_ANS :- ')\n",
    "import threading\n",
    "import logging\n",
    "logging.basicConfig(filename=\"thread.log\",level=logging.INFO)\n",
    "l = [1,2,3,4,5,6,7,8,9,10]\n",
    "\n",
    "def square(l):\n",
    "     for i in l:\n",
    "      sq = i*i\n",
    "      print(\"Square of %d is :- {} \".format(sq)%(i))\n",
    "      logging.info(\"Square of %d is :- {} \".format(sq)%(i))\n",
    "\n",
    "def cube(l):\n",
    "    for i in l:\n",
    "     cb = i*i*i\n",
    "     print(\"Cube of %d is :- {} \".format(cb)%(i))\n",
    "     logging.info(\"Cube of %d is :- {} \".format(cb)%(i))\n",
    "\n",
    "\n",
    "if __name__ ==\"__main__\":\n",
    "\n",
    "\tt1 = threading.Thread(target=square, args=(l,))\n",
    "\tt2 = threading.Thread(target=cube, args=(l,))\n",
    "\n",
    "\n",
    "\tt1.start()\n",
    "\n",
    "\tt2.start()\n",
    "\n",
    "\tt1.join()\n",
    "\n",
    "\tt2.join()\n",
    "\n",
    "\tprint(\"Done!\")\n",
    "     "
   ]
  },
  {
   "cell_type": "code",
   "execution_count": 47,
   "metadata": {},
   "outputs": [
    {
     "name": "stdout",
     "output_type": "stream",
     "text": [
      "Q_5_ANS :- Advantages of Multithreading :-\n",
      "1. Improved performance and concurrency\n",
      "2. Simplified coding of remote procedure calls and conversations\n",
      "3. Simultaneous access to multiple applications\n",
      "4. Reduced number of required servers\n",
      "\n",
      "Disadvantage of Multithreading :-\n",
      "1. Difficulty of writing code\n",
      "2. Difficulty of debugging\n",
      "3. Difficulty of testing\n",
      "4. Difficulty of managing concurrency\n"
     ]
    }
   ],
   "source": [
    "print('Q_5_ANS :- Advantages of Multithreading :-\\n1. Improved performance and concurrency\\n2. Simplified coding of remote procedure calls and conversations\\n3. Simultaneous access to multiple applications\\n4. Reduced number of required servers\\n\\nDisadvantage of Multithreading :-\\n1. Difficulty of writing code\\n2. Difficulty of debugging\\n3. Difficulty of testing\\n4. Difficulty of managing concurrency')"
   ]
  },
  {
   "cell_type": "code",
   "execution_count": 48,
   "metadata": {},
   "outputs": [
    {
     "name": "stdout",
     "output_type": "stream",
     "text": [
      "Q_6_ANS :- Deadlock :- When two processes are waiting for each other directly or indirectly, it is called deadlock.\n",
      "This usually occurs when two processes are waiting for shared resources acquired by others. For example, If thread T1 acquired resource R1 and it also needs resource R2 for it to accomplish its task.\n",
      "For EX :-\n",
      "process 1 is waiting for process 2 and process 2 is waiting for process 3 to finish and process 3 is waiting for process 1 to finish. All these three processes would keep waiting and will never end. This is called deadlock.\n",
      "\n",
      "Race :- When two processes are competing with each other causing data corruption.\n",
      "for EX :-\n",
      "Two persons are trying to deposit 1 dollar online into the same bank account. The initial amount is 17 dollar. Both the persons would be able to see $17 initially. Each of them tries to deposit $1, and the final amount is expected to be $19. But due to race conditions, the final amount in the bank is $18 instead of $19. This is also known as dirty read.\n"
     ]
    }
   ],
   "source": [
    "print('Q_6_ANS :- Deadlock :- When two processes are waiting for each other directly or indirectly, it is called deadlock.\\nThis usually occurs when two processes are waiting for shared resources acquired by others. For example, If thread T1 acquired resource R1 and it also needs resource R2 for it to accomplish its task.\\nFor EX :-\\nprocess 1 is waiting for process 2 and process 2 is waiting for process 3 to finish and process 3 is waiting for process 1 to finish. All these three processes would keep waiting and will never end. This is called deadlock.\\n\\nRace :- When two processes are competing with each other causing data corruption.\\nfor EX :-\\nTwo persons are trying to deposit 1 dollar online into the same bank account. The initial amount is 17 dollar. Both the persons would be able to see $17 initially. Each of them tries to deposit $1, and the final amount is expected to be $19. But due to race conditions, the final amount in the bank is $18 instead of $19. This is also known as dirty read.')"
   ]
  },
  {
   "cell_type": "code",
   "execution_count": null,
   "metadata": {},
   "outputs": [],
   "source": []
  }
 ],
 "metadata": {
  "kernelspec": {
   "display_name": "Python 3",
   "language": "python",
   "name": "python3"
  },
  "language_info": {
   "codemirror_mode": {
    "name": "ipython",
    "version": 3
   },
   "file_extension": ".py",
   "mimetype": "text/x-python",
   "name": "python",
   "nbconvert_exporter": "python",
   "pygments_lexer": "ipython3",
   "version": "3.10.0"
  },
  "orig_nbformat": 4
 },
 "nbformat": 4,
 "nbformat_minor": 2
}
